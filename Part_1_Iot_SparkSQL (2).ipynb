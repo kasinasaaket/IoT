{
 "cells": [
  {
   "cell_type": "markdown",
   "metadata": {},
   "source": [
    "Objective: Analyzing IoT Data with Spark Sql\n",
    "The objective of this case study is to analyze sensor data, which is presented in JSON format, using Spark SQL.\n",
    "Dataset (iot_devices.json): The dataset has the following attributes\n",
    "Device ID\n",
    "Device Name\n",
    "IP Address\n",
    "Cca2 – country code\n",
    "Cca3 – country name\n",
    "Cn – Full name of country\n",
    "Latitude\n",
    "Longitude\n",
    "Scale\n",
    "Temperature\n",
    "Humidity\n",
    "Battery Level\n",
    "CO2 level\n",
    "LCD Status\n",
    "Timestamp"
   ]
  },
  {
   "cell_type": "markdown",
   "metadata": {},
   "source": [
    "1. Read the data into a Dataframe."
   ]
  },
  {
   "cell_type": "code",
   "execution_count": 40,
   "metadata": {},
   "outputs": [
    {
     "data": {
      "text/plain": [
       "DataFrame[battery_level: bigint, c02_level: bigint, cca2: string, cca3: string, cn: string, device_id: bigint, device_name: string, humidity: bigint, ip: string, latitude: double, lcd: string, longitude: double, scale: string, temp: bigint, timestamp: bigint]"
      ]
     },
     "execution_count": 40,
     "metadata": {},
     "output_type": "execute_result"
    }
   ],
   "source": [
    "from pyspark.sql import SparkSession\n",
    "from pyspark.sql.functions import expr\n",
    "# Step a: Read the data into a DataFrame\n",
    "spark = SparkSession.builder.appName(\"IoTAnalysis\").getOrCreate()\n",
    "df = spark.read.json(\"iot_devices.json\")\n",
    "df"
   ]
  },
  {
   "cell_type": "markdown",
   "metadata": {},
   "source": [
    "2. Convert the Dataframe into a temporary view called iot."
   ]
  },
  {
   "cell_type": "code",
   "execution_count": 41,
   "metadata": {},
   "outputs": [
    {
     "data": {
      "text/plain": [
       "DataFrame[battery_level: bigint, c02_level: bigint, cca2: string, cca3: string, cn: string, device_id: bigint, device_name: string, humidity: bigint, ip: string, latitude: double, lcd: string, longitude: double, scale: string, temp: bigint, timestamp: bigint]"
      ]
     },
     "execution_count": 41,
     "metadata": {},
     "output_type": "execute_result"
    }
   ],
   "source": [
    "df.createOrReplaceTempView(\"iot\")\n",
    "df"
   ]
  },
  {
   "cell_type": "markdown",
   "metadata": {},
   "source": [
    "3. Count how many devices are there from each country and display the output."
   ]
  },
  {
   "cell_type": "code",
   "execution_count": 64,
   "metadata": {},
   "outputs": [
    {
     "name": "stdout",
     "output_type": "stream",
     "text": [
      "+-----------+-----------+\n",
      "|CountryCode|DeviceCount|\n",
      "+-----------+-----------+\n",
      "|        HTI|         12|\n",
      "|        PSE|         25|\n",
      "|        POL|       2744|\n",
      "|        LVA|        358|\n",
      "|        BRB|         38|\n",
      "|        JAM|         44|\n",
      "|        BRA|       3224|\n",
      "|        ARM|         34|\n",
      "|        MOZ|         22|\n",
      "|        JOR|         46|\n",
      "|        CUB|         15|\n",
      "|        FRA|       5305|\n",
      "|        ABW|          8|\n",
      "|        TCA|          1|\n",
      "|        BRN|         19|\n",
      "|        BOL|        108|\n",
      "|        URY|        117|\n",
      "|        LBY|         16|\n",
      "|        ATG|         60|\n",
      "|        ITA|       2915|\n",
      "+-----------+-----------+\n",
      "only showing top 20 rows\n",
      "\n"
     ]
    }
   ],
   "source": [
    "# Step c: Count how many devices are there from each country and display the output\n",
    "count_by_country = spark.sql(\"\"\"\n",
    "    SELECT cca3 as CountryCode, COUNT(*) as DeviceCount\n",
    "    FROM iot\n",
    "    GROUP BY cca3\n",
    "\"\"\")\n",
    "count_by_country.show()"
   ]
  },
  {
   "cell_type": "markdown",
   "metadata": {},
   "source": [
    "4. Display all the countries whose carbon dioxide level is more than 1400. Sort the output in descending order."
   ]
  },
  {
   "cell_type": "code",
   "execution_count": 56,
   "metadata": {},
   "outputs": [
    {
     "name": "stdout",
     "output_type": "stream",
     "text": [
      "+----+---------+\n",
      "|cca3|c02_level|\n",
      "+----+---------+\n",
      "| PHL|     1599|\n",
      "| HKG|     1599|\n",
      "| CZE|     1599|\n",
      "| BRA|     1599|\n",
      "| IND|     1599|\n",
      "| KOR|     1599|\n",
      "| ESP|     1599|\n",
      "| GBR|     1599|\n",
      "| KAZ|     1599|\n",
      "| FRA|     1599|\n",
      "| MYS|     1599|\n",
      "| POL|     1599|\n",
      "| HUN|     1599|\n",
      "| CAN|     1599|\n",
      "| ROU|     1599|\n",
      "| CHN|     1599|\n",
      "| RUS|     1599|\n",
      "| MEX|     1599|\n",
      "| VNM|     1599|\n",
      "| ARE|     1599|\n",
      "+----+---------+\n",
      "only showing top 20 rows\n",
      "\n"
     ]
    }
   ],
   "source": [
    "# Step d: Display all the countries whose carbon dioxide level is more than 1400. Sort the output in descending order\n",
    "spark.sql(\"SELECT DISTINCT cca3,c02_level from iot where c02_level>1400 ORDER BY c02_level DESC\").show()"
   ]
  },
  {
   "cell_type": "markdown",
   "metadata": {},
   "source": [
    "5. Select all countries' devices with high-levels of C02 and group by cca3 and order by device_ids (Hint: For high CO2 level, the LCD status will be RED)."
   ]
  },
  {
   "cell_type": "code",
   "execution_count": 62,
   "metadata": {},
   "outputs": [
    {
     "name": "stdout",
     "output_type": "stream",
     "text": [
      "+-----------+---------+\n",
      "|CountryCode|device_id|\n",
      "+-----------+---------+\n",
      "|        NOR|        2|\n",
      "|        ITA|        3|\n",
      "|        JPN|        8|\n",
      "|        USA|       10|\n",
      "|        ITA|       11|\n",
      "|        USA|       16|\n",
      "|        USA|       17|\n",
      "|        USA|       19|\n",
      "|        JPN|       22|\n",
      "|        CAN|       24|\n",
      "|        KOR|       27|\n",
      "|        KOR|       28|\n",
      "|        UKR|       47|\n",
      "|        SWE|       53|\n",
      "|        USA|       54|\n",
      "|        USA|       57|\n",
      "|        USA|       64|\n",
      "|        CZE|       66|\n",
      "|        IND|       77|\n",
      "|        KOR|       78|\n",
      "+-----------+---------+\n",
      "only showing top 20 rows\n",
      "\n"
     ]
    }
   ],
   "source": [
    "#5. Select all countries' devices with high-levels of C02 and group by cca3 and order by device_ids (Hint: For high CO2 level, the LCD status will be RED).\n",
    "high_co2_devices = spark.sql(\"\"\"\n",
    "    SELECT cca3 as CountryCode, device_id\n",
    "    FROM iot\n",
    "    WHERE c02_level > 1400 AND lcd = 'red'\n",
    "    ORDER BY 'DeviceID'\n",
    "\"\"\")\n",
    "high_co2_devices.show()"
   ]
  },
  {
   "cell_type": "markdown",
   "metadata": {},
   "source": [
    "6. Find out all devices in countries whose batteries need replacements."
   ]
  },
  {
   "cell_type": "code",
   "execution_count": 60,
   "metadata": {},
   "outputs": [
    {
     "name": "stdout",
     "output_type": "stream",
     "text": [
      "+-------------+---------+----+----+-------------+---------+--------------------+--------+---------------+--------+------+---------+-------+----+-------------+\n",
      "|battery_level|c02_level|cca2|cca3|           cn|device_id|         device_name|humidity|             ip|latitude|   lcd|longitude|  scale|temp|    timestamp|\n",
      "+-------------+---------+----+----+-------------+---------+--------------------+--------+---------------+--------+------+---------+-------+----+-------------+\n",
      "|            8|      868|  US| USA|United States|        1|meter-gauge-1xbYRYcj|      51|   68.161.225.1|    38.0| green|    -97.0|Celsius|  34|1458444054093|\n",
      "|            7|     1473|  NO| NOR|       Norway|        2|   sensor-pad-2n2Pea|      70|  213.161.254.1|   62.47|   red|     6.15|Celsius|  11|1458444054119|\n",
      "|            2|     1556|  IT| ITA|        Italy|        3| device-mac-36TWSKiT|      44|      88.36.5.1|   42.83|   red|    12.83|Celsius|  19|1458444054120|\n",
      "|            6|     1080|  US| USA|United States|        4|   sensor-pad-4mzWkz|      32|  66.39.173.154|   44.06|yellow|  -121.32|Celsius|  28|1458444054121|\n",
      "|            4|      931|  PH| PHL|  Philippines|        5|therm-stick-5gimp...|      62|    203.82.41.9|   14.58| green|   120.97|Celsius|  25|1458444054122|\n",
      "|            3|     1210|  US| USA|United States|        6|sensor-pad-6al7RT...|      51| 204.116.105.67|   35.93|yellow|   -85.46|Celsius|  27|1458444054122|\n",
      "|            3|     1129|  CN| CHN|        China|        7|meter-gauge-7GeDoanM|      26|  220.173.179.1|   22.82|yellow|   108.32|Celsius|  18|1458444054123|\n",
      "|            0|     1536|  JP| JPN|        Japan|        8|sensor-pad-8xUD6p...|      35|  210.173.177.1|   35.69|   red|   139.69|Celsius|  27|1458444054123|\n",
      "|            3|      807|  JP| JPN|        Japan|        9| device-mac-9GcjZ2pw|      85|  118.23.68.227|   35.69| green|   139.69|Celsius|  13|1458444054124|\n",
      "|            7|     1470|  US| USA|United States|       10|sensor-pad-10Bsyw...|      56|208.109.163.218|   33.61|   red|  -111.89|Celsius|  26|1458444054125|\n",
      "|            3|     1544|  IT| ITA|        Italy|       11|meter-gauge-11dlM...|      85|  88.213.191.34|   42.83|   red|    12.83|Celsius|  16|1458444054125|\n",
      "|            0|     1260|  US| USA|United States|       12|sensor-pad-12Y2kIm0o|      92|    68.28.91.22|    38.0|yellow|    -97.0|Celsius|  12|1458444054126|\n",
      "|            6|     1007|  IN| IND|        India|       13|meter-gauge-13Gro...|      92| 59.144.114.250|    28.6|yellow|     77.2|Celsius|  13|1458444054127|\n",
      "|            1|     1346|  NO| NOR|       Norway|       14|sensor-pad-14QL93...|      90| 193.156.90.200|   59.95|yellow|    10.75|Celsius|  16|1458444054127|\n",
      "|            9|     1259|  US| USA|United States|       15|  device-mac-15se6mZ|      70|    67.185.72.1|   47.41|yellow|   -122.0|Celsius|  13|1458444054128|\n",
      "|            4|     1425|  US| USA|United States|       16|sensor-pad-16aXmI...|      53|   68.85.85.106|    38.0|   red|    -97.0|Celsius|  15|1458444054128|\n",
      "|            0|     1466|  US| USA|United States|       17|meter-gauge-17zb8...|      98|161.188.212.254|   39.95|   red|   -75.16|Celsius|  31|1458444054129|\n",
      "|            4|     1096|  CN| CHN|        China|       18|sensor-pad-18XULN9Xv|      25|  221.3.128.242|   25.04|yellow|   102.72|Celsius|  31|1458444054130|\n",
      "|            9|     1531|  US| USA|United States|       19|meter-gauge-19eg1...|      75| 64.124.180.215|    38.0|   red|    -97.0|Celsius|  29|1458444054130|\n",
      "|            7|     1155|  US| USA|United States|       20|sensor-pad-20gFNf...|      33|  66.153.162.66|   33.94|yellow|   -78.92|Celsius|  10|1458444054131|\n",
      "+-------------+---------+----+----+-------------+---------+--------------------+--------+---------------+--------+------+---------+-------+----+-------------+\n",
      "only showing top 20 rows\n",
      "\n"
     ]
    }
   ],
   "source": [
    "# Step f: Find out all devices in countries whose batteries need replacements\n",
    "devices_with_low_battery = spark.sql(\"\"\"\n",
    "    SELECT *\n",
    "    FROM iot\n",
    "    WHERE battery_level < 20\n",
    "\"\"\")\n",
    "devices_with_low_battery.show()"
   ]
  }
 ],
 "metadata": {
  "kernelspec": {
   "display_name": "Python 3",
   "language": "python",
   "name": "python3"
  },
  "language_info": {
   "codemirror_mode": {
    "name": "ipython",
    "version": 3
   },
   "file_extension": ".py",
   "mimetype": "text/x-python",
   "name": "python",
   "nbconvert_exporter": "python",
   "pygments_lexer": "ipython3",
   "version": "3.9.13"
  }
 },
 "nbformat": 4,
 "nbformat_minor": 2
}
